{
  "nbformat": 4,
  "nbformat_minor": 0,
  "metadata": {
    "colab": {
      "provenance": []
    },
    "kernelspec": {
      "name": "python3",
      "display_name": "Python 3"
    },
    "language_info": {
      "name": "python"
    }
  },
  "cells": [
    {
      "cell_type": "code",
      "execution_count": 4,
      "metadata": {
        "colab": {
          "base_uri": "https://localhost:8080/"
        },
        "id": "XV6zvFF4EyZk",
        "outputId": "12ab24b5-a228-482b-b309-326403c023a7"
      },
      "outputs": [
        {
          "output_type": "stream",
          "name": "stdout",
          "text": [
            "Total number of employees: 3\n",
            "Average salary: 50000.0\n"
          ]
        }
      ],
      "source": [
        "class Employee:\n",
        "    # Class variable to count the number of Employees\n",
        "    employee_count = 0\n",
        "\n",
        "    def __init__(self, name, family, salary, department):\n",
        "        # Instance variables\n",
        "        self.name = name\n",
        "        self.family = family\n",
        "        self.salary = salary\n",
        "        self.department = department\n",
        "\n",
        "        # Increment the employee count whenever a new employee is created\n",
        "        Employee.employee_count += 1\n",
        "\n",
        "    @classmethod\n",
        "    def average_salary(cls, employees):\n",
        "        # Calculate the average salary from a list of Employee instances\n",
        "        total_salary = sum(employee.salary for employee in employees)\n",
        "        return total_salary / len(employees) if employees else 0\n",
        "\n",
        "class FulltimeEmployee(Employee):\n",
        "    pass\n",
        "\n",
        "# Creating instances of FulltimeEmployee and Employee classes\n",
        "employee1 = FulltimeEmployee(\"Jeevan\", \"N\", 50000, \"Engg\")\n",
        "employee2 = FulltimeEmployee(\"N\", \"Jeevan\", 60000, \"Engg\")\n",
        "employee3 = Employee(\"J\", \"N\", 40000, \"Engg\")\n",
        "\n",
        "# Creating a list of employees to calculate the average salary\n",
        "employees = [employee1, employee2, employee3]\n",
        "\n",
        "\n",
        "print(f\"Total number of employees: {Employee.employee_count}\")\n",
        "print(f\"Average salary: {Employee.average_salary(employees)}\")\n"
      ]
    },
    {
      "cell_type": "markdown",
      "source": [
        "Employee Class:\n",
        "\n",
        "employee_count: A class variable that counts the number of Employee instances created.\n",
        "__init__ method: Initializes an Employee instance with name, family, salary, and department.\n",
        "average_salary method: A class method that takes a list of Employee instances and calculates the average salary.\n",
        "FulltimeEmployee Class:\n",
        "Inherits all properties and methods from the Employee class.\n",
        "Instances:\n",
        "\n",
        "employee1 and employee2 are instances of the FulltimeEmployee class.\n",
        "employee3 is an instance of the Employee class.\n"
      ],
      "metadata": {
        "id": "qzfqjJgYHzkA"
      }
    },
    {
      "cell_type": "code",
      "source": [
        "import numpy as np\n",
        "\n",
        "#Create a random vector\n",
        "random_vector = np.random.uniform(1, 20, 20)\n",
        "\n",
        "#  Reshape the vector to a 4x5 array\n",
        "reshaped_array = random_vector.reshape(4, 5)\n",
        "\n",
        "max_indices = np.argmax(reshaped_array, axis=1)\n",
        "\n",
        "reshaped_array[np.arange(reshaped_array.shape[0]), max_indices] = 0\n",
        "\n",
        "print(reshaped_array)\n"
      ],
      "metadata": {
        "colab": {
          "base_uri": "https://localhost:8080/"
        },
        "id": "UrryL2bdF6qI",
        "outputId": "55cbf6fd-4f93-4135-f47b-8262e5b9c485"
      },
      "execution_count": 5,
      "outputs": [
        {
          "output_type": "stream",
          "name": "stdout",
          "text": [
            "[[13.7265001  12.91951022  0.         16.04464816  1.0391035 ]\n",
            " [ 5.4990193   0.         15.51802417  3.55103081 10.79160162]\n",
            " [ 9.25435759  3.47785751  0.         14.3864952   4.88986244]\n",
            " [17.10455058 10.95269713  6.41509915 12.88040933  0.        ]]\n"
          ]
        }
      ]
    },
    {
      "cell_type": "markdown",
      "source": [
        "Random Vector:np.random.uniform(1, 20, 20) creates a random vector of size 20 with float values between 1 and 20.\n",
        "\n",
        "Reshape:reshape(4, 5) reshapes the vector into a 4x5 array.\n",
        "Replace Max with 0:np.argmax(reshaped_array, axis=1) returns the indices of the maximum values along each row.\n",
        "reshaped_array[np.arange(reshaped_array.shape[0]), max_indices] = 0 uses advanced indexing to set the maximum values to 0 without using a loop."
      ],
      "metadata": {
        "id": "2lo7AjzhIARW"
      }
    }
  ]
}